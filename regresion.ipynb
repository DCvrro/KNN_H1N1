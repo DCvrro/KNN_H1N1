{
 "cells": [
  {
   "cell_type": "code",
   "execution_count": 7,
   "metadata": {},
   "outputs": [
    {
     "name": "stdout",
     "output_type": "stream",
     "text": [
      "Collecting seaborn==0.11\n",
      "  Downloading seaborn-0.11.0-py3-none-any.whl (283 kB)\n",
      "     -------------------------------------- 283.1/283.1 kB 5.8 MB/s eta 0:00:00\n",
      "Requirement already satisfied: scipy>=1.0 in c:\\users\\diego\\appdata\\local\\programs\\python\\python310\\lib\\site-packages (from seaborn==0.11) (1.9.2)\n",
      "Requirement already satisfied: pandas>=0.23 in c:\\users\\diego\\appdata\\local\\programs\\python\\python310\\lib\\site-packages (from seaborn==0.11) (1.5.1)\n",
      "Requirement already satisfied: numpy>=1.15 in c:\\users\\diego\\appdata\\local\\programs\\python\\python310\\lib\\site-packages (from seaborn==0.11) (1.23.3)\n",
      "Requirement already satisfied: matplotlib>=2.2 in c:\\users\\diego\\appdata\\local\\programs\\python\\python310\\lib\\site-packages (from seaborn==0.11) (3.6.2)\n",
      "Requirement already satisfied: pyparsing>=2.2.1 in c:\\users\\diego\\appdata\\local\\programs\\python\\python310\\lib\\site-packages (from matplotlib>=2.2->seaborn==0.11) (3.0.9)\n",
      "Requirement already satisfied: kiwisolver>=1.0.1 in c:\\users\\diego\\appdata\\local\\programs\\python\\python310\\lib\\site-packages (from matplotlib>=2.2->seaborn==0.11) (1.4.4)\n",
      "Requirement already satisfied: pillow>=6.2.0 in c:\\users\\diego\\appdata\\local\\programs\\python\\python310\\lib\\site-packages (from matplotlib>=2.2->seaborn==0.11) (9.2.0)\n",
      "Requirement already satisfied: cycler>=0.10 in c:\\users\\diego\\appdata\\local\\programs\\python\\python310\\lib\\site-packages (from matplotlib>=2.2->seaborn==0.11) (0.11.0)\n",
      "Requirement already satisfied: packaging>=20.0 in c:\\users\\diego\\appdata\\local\\programs\\python\\python310\\lib\\site-packages (from matplotlib>=2.2->seaborn==0.11) (21.3)\n",
      "Requirement already satisfied: python-dateutil>=2.7 in c:\\users\\diego\\appdata\\local\\programs\\python\\python310\\lib\\site-packages (from matplotlib>=2.2->seaborn==0.11) (2.8.2)\n",
      "Requirement already satisfied: contourpy>=1.0.1 in c:\\users\\diego\\appdata\\local\\programs\\python\\python310\\lib\\site-packages (from matplotlib>=2.2->seaborn==0.11) (1.0.5)\n",
      "Requirement already satisfied: fonttools>=4.22.0 in c:\\users\\diego\\appdata\\local\\programs\\python\\python310\\lib\\site-packages (from matplotlib>=2.2->seaborn==0.11) (4.37.4)\n",
      "Requirement already satisfied: pytz>=2020.1 in c:\\users\\diego\\appdata\\local\\programs\\python\\python310\\lib\\site-packages (from pandas>=0.23->seaborn==0.11) (2022.6)\n",
      "Requirement already satisfied: six>=1.5 in c:\\users\\diego\\appdata\\local\\programs\\python\\python310\\lib\\site-packages (from python-dateutil>=2.7->matplotlib>=2.2->seaborn==0.11) (1.16.0)\n",
      "Installing collected packages: seaborn\n",
      "  Attempting uninstall: seaborn\n",
      "    Found existing installation: seaborn 0.12.1\n",
      "    Uninstalling seaborn-0.12.1:\n",
      "      Successfully uninstalled seaborn-0.12.1\n",
      "Successfully installed seaborn-0.11.0\n",
      "Note: you may need to restart the kernel to use updated packages.\n"
     ]
    },
    {
     "name": "stderr",
     "output_type": "stream",
     "text": [
      "WARNING: Ignoring invalid distribution -atplotlib (c:\\users\\diego\\appdata\\local\\programs\\python\\python310\\lib\\site-packages)\n",
      "WARNING: Ignoring invalid distribution -atplotlib (c:\\users\\diego\\appdata\\local\\programs\\python\\python310\\lib\\site-packages)\n",
      "WARNING: Ignoring invalid distribution -atplotlib (c:\\users\\diego\\appdata\\local\\programs\\python\\python310\\lib\\site-packages)\n",
      "    WARNING: Ignoring invalid distribution -atplotlib (c:\\users\\diego\\appdata\\local\\programs\\python\\python310\\lib\\site-packages)\n",
      "WARNING: Ignoring invalid distribution -atplotlib (c:\\users\\diego\\appdata\\local\\programs\\python\\python310\\lib\\site-packages)\n",
      "WARNING: Ignoring invalid distribution -atplotlib (c:\\users\\diego\\appdata\\local\\programs\\python\\python310\\lib\\site-packages)\n",
      "WARNING: Ignoring invalid distribution -atplotlib (c:\\users\\diego\\appdata\\local\\programs\\python\\python310\\lib\\site-packages)\n",
      "WARNING: Ignoring invalid distribution -atplotlib (c:\\users\\diego\\appdata\\local\\programs\\python\\python310\\lib\\site-packages)\n"
     ]
    }
   ],
   "source": [
    "%pip install seaborn==0.11\n",
    "%matplotlib inline"
   ]
  },
  {
   "cell_type": "code",
   "execution_count": 1,
   "metadata": {},
   "outputs": [],
   "source": [
    "import numpy as np\n",
    "import pandas as pd\n",
    "import seaborn as sb\n",
    "import matplotlib.pyplot as plt\n",
    "from mpl_toolkits.mplot3d import Axes3D\n",
    "from matplotlib import cm\n",
    "plt.rcParams['figure.figsize'] = (16, 9)\n",
    "plt.style.use('ggplot')\n",
    "from sklearn import linear_model\n",
    "from sklearn.metrics import mean_squared_error, r2_score\n",
    "from seaborn import factorplot"
   ]
  },
  {
   "cell_type": "code",
   "execution_count": null,
   "metadata": {},
   "outputs": [],
   "source": [
    "datos = pd.read_csv('H1N1_Flu_Vaccines.csv', on_bad_lines='skip', sep= ';')\n",
    "cda =  datos[['opinion_h1n1_risk','opinion_h1n1_sick_from_vacc']]\n",
    "cda.head(6)\n",
    "\n",
    "\n",
    "print(datos.groupby('opinion_h1n1_vacc_effective').size())\n",
    "\n",
    "datos.drop(['opinion_h1n1_vacc_effective'],1).hist()\n",
    "plt.show()\n",
    "\n",
    "sb.pairplot(datos.dropna(), hue='opinion_h1n1_vacc_effective',size=4,vars=['opinion_h1n1_risk','opinion_h1n1_sick_from_vacc'],kind='reg')\n",
    "\n",
    "datos.opinion_h1n1_risk=datos.opinion_h1n1_risk.fillna(0)\n",
    "datos.opinion_h1n1_sick_from_vacc=datos.opinion_h1n1_sick_from_vacc.fillna(0)\n",
    "datos.opinion_seas_vacc_effective=datos.opinion_seas_vacc_effective.fillna(0)\n",
    "datos.opinion_h1n1_vacc_effective=datos.opinion_h1n1_vacc_effective.fillna(0)\n",
    "datos.opinion_h1n1_risk=datos.opinion_h1n1_risk.astype(int)\n",
    "datos.opinion_h1n1_sick_from_vacc=datos.opinion_h1n1_sick_from_vacc.astype(int)\n",
    "datos.opinion_seas_vacc_effective=datos.opinion_seas_vacc_effective.astype(int)\n",
    "datos.opinion_h1n1_vacc_effective=datos.opinion_h1n1_vacc_effective.astype(int)\n",
    "\n",
    "#Vamos a intentar mejorar el Modelo, con una dimensión más: \n",
    "# Para poder graficar en 3D, haremos una variable nueva que será la suma de los enlaces, comentarios e imágenes\n",
    "\n",
    "dataX2 =  pd.DataFrame()\n",
    "dataX2[\"opinion_h1n1_risk\"] = datos[\"opinion_h1n1_risk\"]\n",
    "dataX2[\"opinion_h1n1_sick_from_vacc\"] = datos['opinion_h1n1_sick_from_vacc']\n",
    "XY_train = np.array(dataX2)\n",
    "z_train = datos['opinion_h1n1_vacc_effective'].values\n",
    "\n",
    "# Creamos un nuevo objeto de Regresión Lineal\n",
    "regr2 = linear_model.LinearRegression()\n",
    "\n",
    "# Entrenamos el modelo, esta vez, con 2 dimensiones\n",
    "# obtendremos 2 coeficientes, para graficar un plano\n",
    "regr2.fit(XY_train, z_train)\n",
    "\n",
    "# Hacemos la predicción con la que tendremos puntos sobre el plano hallado\n",
    "z_pred = regr2.predict(XY_train)\n",
    "\n",
    "# Los coeficientes\n",
    "print('Coefficients: \\n', regr2.coef_)\n",
    "# Error cuadrático medio\n",
    "print(\"Mean squared error: %.2f\" % mean_squared_error(z_train, z_pred))\n",
    "# Evaluamos el puntaje de varianza (siendo 1.0 el mejor posible)\n",
    "print('Variance score: %.2f' % r2_score(z_train, z_pred))\n"
   ]
  }
 ],
 "metadata": {
  "kernelspec": {
   "display_name": "Python 3.10.7 64-bit",
   "language": "python",
   "name": "python3"
  },
  "language_info": {
   "codemirror_mode": {
    "name": "ipython",
    "version": 3
   },
   "file_extension": ".py",
   "mimetype": "text/x-python",
   "name": "python",
   "nbconvert_exporter": "python",
   "pygments_lexer": "ipython3",
   "version": "3.10.7"
  },
  "orig_nbformat": 4,
  "vscode": {
   "interpreter": {
    "hash": "341268af697f69dd1ffdcdac7af840419ecb88f390bc16e46c3586102df69d04"
   }
  }
 },
 "nbformat": 4,
 "nbformat_minor": 2
}
